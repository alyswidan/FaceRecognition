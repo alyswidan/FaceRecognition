{
 "cells": [
  {
   "cell_type": "code",
   "execution_count": 1,
   "metadata": {},
   "outputs": [],
   "source": [
    "% reset\n",
    "import os\n",
    "from math import *\n",
    "from PIL import Image\n",
    "import numpy as np\n",
    "import matplotlib.pyplot as plt\n",
    "from helpers import *\n",
    "from classifiers.lda import *\n",
    "from classifiers.knn import *\n",
    "%matplotlib inline\n",
    "%load_ext autoreload\n",
    "%autoreload 2"
   ]
  },
  {
   "cell_type": "code",
   "execution_count": 2,
   "metadata": {
    "collapsed": true
   },
   "outputs": [],
   "source": [
    "root = 'orl_faces'\n",
    "X, y = load_faces(root)\n",
    "X_train = X[0:400:2,:]\n",
    "X_test = X[1:400:2,:]\n",
    "y_train = y[0:400:2]\n",
    "y_test = y[1:400:2]\n"
   ]
  },
  {
   "cell_type": "code",
   "execution_count": null,
   "metadata": {},
   "outputs": [
    {
     "name": "stdout",
     "output_type": "stream",
     "text": [
      "calculating S 1\n",
      "calculating S 2\n",
      "calculating S 3\n",
      "calculating S 4\n",
      "calculating S 5\n",
      "calculating S 6\n",
      "calculating S 7\n",
      "calculating S 8\n",
      "calculating S 9\n",
      "calculating S 10\n",
      "calculating S 11\n",
      "calculating S 12\n",
      "calculating S 13\n",
      "calculating S 14\n",
      "calculating S 15\n",
      "calculating S 16\n",
      "calculating S 17\n",
      "calculating S 18\n",
      "calculating S 19\n",
      "calculating S 20\n",
      "calculating S 21\n",
      "calculating S 22\n",
      "calculating S 23\n",
      "calculating S 24\n",
      "calculating S 25\n",
      "calculating S 26\n",
      "calculating S 27\n",
      "calculating S 28\n",
      "calculating S 29\n",
      "calculating S 30\n",
      "calculating S 31\n",
      "calculating S 32\n",
      "calculating S 33\n",
      "calculating S 34\n",
      "calculating S 35\n",
      "calculating S 36\n",
      "calculating S 37\n",
      "calculating S 38\n",
      "calculating S 39\n",
      "calculating S 40\n",
      "calculating B 1\n",
      "calculating B 2\n",
      "calculating B 3\n",
      "calculating B 4\n",
      "calculating B 5\n",
      "calculating B 6\n",
      "calculating B 7\n",
      "calculating B 8\n",
      "calculating B 9\n",
      "calculating B 10\n",
      "calculating B 11\n",
      "calculating B 12\n",
      "calculating B 13\n",
      "calculating B 14\n",
      "calculating B 15\n",
      "calculating B 16\n",
      "calculating B 17\n",
      "calculating B 18\n",
      "calculating B 19\n",
      "calculating B 20\n",
      "calculating B 21\n",
      "calculating B 22\n",
      "calculating B 23\n",
      "calculating B 24\n",
      "calculating B 25\n",
      "calculating B 26\n",
      "calculating B 27\n",
      "calculating B 28\n",
      "calculating B 29\n",
      "calculating B 30\n",
      "calculating B 31\n",
      "calculating B 32\n",
      "calculating B 33\n",
      "calculating B 34\n",
      "calculating B 35\n",
      "calculating B 36\n",
      "calculating B 37\n",
      "calculating B 38\n",
      "calculating B 39\n",
      "calculating B 40\n"
     ]
    }
   ],
   "source": [
    "lda = LDA()\n",
    "U = lda.train(X_train, y_train, noOfClasses=40,r=39)\n",
    "assert U.shape == (39,X_train.shape[1]), \"Dimensions of projection matrix not correct\""
   ]
  },
  {
   "cell_type": "code",
   "execution_count": 4,
   "metadata": {
    "collapsed": true
   },
   "outputs": [],
   "source": [
    "X_train_lda = lda.project(X_train)\n",
    "assert X_train_lda.shape == (X_train.shape[0], 39), \"Dimensions of projected training matrix not correct.\""
   ]
  },
  {
   "cell_type": "code",
   "execution_count": 5,
   "metadata": {},
   "outputs": [
    {
     "data": {
      "text/plain": [
       "(39, 39)"
      ]
     },
     "execution_count": 5,
     "metadata": {},
     "output_type": "execute_result"
    }
   ],
   "source": [
    "# X_test_lda = lda.project(X_test)\n",
    "# assert X_test_lda.shape == (X_test.shape[0], 39), \"Dimensions of projected test matrix not correct.\"\n",
    "U.shape"
   ]
  },
  {
   "cell_type": "code",
   "execution_count": 6,
   "metadata": {},
   "outputs": [
    {
     "name": "stdout",
     "output_type": "stream",
     "text": [
      "training accuracy = 1.0\n",
      "testing accuracy = 0.88\n"
     ]
    }
   ],
   "source": [
    "knn_1 = K_nearest_neighbour()\n",
    "knn_1.train(X_train_lda, y_train)\n",
    "test_predictions = knn_1.predict(X_test_lda)\n",
    "train_predictions = knn_1.predict(X_train_lda)\n",
    "train_accuracy = np.mean(train_predictions == y_train)\n",
    "test_accuracy = np.mean(test_predictions == y_test)\n",
    "print(f'training accuracy = {train_accuracy}')\n",
    "print(f'testing accuracy = {test_accuracy}')"
   ]
  },
  {
   "cell_type": "code",
   "execution_count": 74,
   "metadata": {},
   "outputs": [
    {
     "data": {
      "image/png": "[encoded data removed]",
      "text/plain": [
       "<matplotlib.figure.Figure at 0x7f3112816d30>"
      ]
     },
     "metadata": {},
     "output_type": "display_data"
    }
   ],
   "source": [
    "Ks = [1, 3, 5, 7]\n",
    "train_accs, test_accs = [],[]\n",
    "\n",
    "for k in Ks:\n",
    "    knn = K_nearest_neighbour(k=k)\n",
    "    knn.train(X_train_lda, y_train)\n",
    "    test_predictions = knn.predict(X_test_lda)\n",
    "    train_predictions = knn.predict(X_train_lda)\n",
    "    train_accs.append(np.mean(train_predictions == y_train))\n",
    "    test_accs.append(np.mean(test_predictions == y_test))\n",
    "    \n",
    "plt.plot(train_accs, '-o', label='train')\n",
    "plt.plot(test_accs, '-o', label='test')\n",
    "plt.legend(loc='lower right')\n",
    "plt.title('Accuracy against K')\n",
    "plt.xlabel('k value')\n",
    "plt.ylabel('accuracy')\n",
    "plt.gcf().set_size_inches(15,5)\n",
    "plt.show()"
   ]
  }
 ],
 "metadata": {
  "kernelspec": {
   "display_name": "Python 3",
   "language": "python",
   "name": "python3"
  },
  "language_info": {
   "codemirror_mode": {
    "name": "ipython",
    "version": 3
   },
   "file_extension": ".py",
   "mimetype": "text/x-python",
   "name": "python",
   "nbconvert_exporter": "python",
   "pygments_lexer": "ipython3",
   "version": "3.6.3"
  }
 },
 "nbformat": 4,
 "nbformat_minor": 2
}
